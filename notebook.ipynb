{
 "cells": [
  {
   "cell_type": "code",
   "execution_count": null,
   "metadata": {
    "collapsed": true
   },
   "outputs": [],
   "source": [
    "import pandas as pd\n",
    "import numpy as np"
   ]
  },
  {
   "cell_type": "code",
   "execution_count": null,
   "metadata": {
    "collapsed": true
   },
   "outputs": [],
   "source": [
    "# load student list\n",
    "Tab_studenti = pd.read_csv('students.csv', names=['student'])\n",
    "# file format:\n",
    "# student a\n",
    "# student b\n",
    "# student c"
   ]
  },
  {
   "cell_type": "code",
   "execution_count": null,
   "metadata": {},
   "outputs": [],
   "source": [
    "# absents\n",
    "# simple method to ignore absent students\n",
    "# need personalization based on the input\n",
    "absents = []\n",
    "\n",
    "absents = [x.upper() for x in absents]\n",
    "tmp = []\n",
    "for x in Tab_studenti.studenti:\n",
    "    cognome = ' '.join(x.split()[:-1])\n",
    "    if cognome in absents:\n",
    "        tmp.append(x)\n",
    "absents = tmp\n",
    "print(absents)"
   ]
  },
  {
   "cell_type": "code",
   "execution_count": null,
   "metadata": {
    "collapsed": true
   },
   "outputs": [],
   "source": [
    "# test parameters, generic\n",
    "# default:\n",
    "# all exercises have 1 point\n",
    "# all exercises have the same weights\n",
    "number_of_exercises = 9\n",
    "weights = np.asarray([1/number_of_exercises for x in range(number_of_exercises)])\n",
    "points_for_execercise = np.asarray([1 for x in range(number_of_exercises)])\n",
    "mark_max=10\n",
    "mark_min=2"
   ]
  },
  {
   "cell_type": "code",
   "execution_count": null,
   "metadata": {},
   "outputs": [],
   "source": [
    "# personalization of parameters, part 1\n",
    "# eg. points_for_execercise[1] = 1\n",
    "points_for_execercise[0] = 3\n",
    "points_for_execercise[1] = 1\n",
    "points_for_execercise[2] = 2\n",
    "points_for_execercise[3] = 2\n",
    "points_for_execercise[4] = 2\n",
    "points_for_execercise[5] = 3\n",
    "points_for_execercise[6] = 2\n",
    "points_for_execercise[7] = 3\n",
    "points_for_execercise[8] = 1\n",
    "print(points_for_execercise)"
   ]
  },
  {
   "cell_type": "code",
   "execution_count": null,
   "metadata": {},
   "outputs": [],
   "source": [
    "# personalization of parameters, part 2\n",
    "# eg. weights[1] = 1\n",
    "weights[0] = 3/27\n",
    "weights[1] = 1/27\n",
    "weights[2] = 4/27\n",
    "weights[3] = 4/27\n",
    "weights[4] = 4/27\n",
    "weights[5] = 2/27\n",
    "weights[6] = 3/27\n",
    "weights[7] = 3/27\n",
    "weights[8] = 3/27\n",
    "print(weights.round(2))\n",
    "print('this must be equal to 1 otherwise weighs are not consistent: ', np.sum(weights))"
   ]
  },
  {
   "cell_type": "code",
   "execution_count": null,
   "metadata": {},
   "outputs": [],
   "source": [
    "# string preparation:\n",
    "# just run this script\n",
    "# first line: weights\n",
    "# other line: table that must be filled with points collected by student.\n",
    "\n",
    "ll = ','.join(['0 ' for x in range(number_of_exercises)])\n",
    "print ('#' + ', '.join([str(x) for x in points_for_execercise]))\n",
    "print('points = [')\n",
    "for x in Tab_studenti.iterrows():\n",
    "    print('[' + ll + '], # ' + x[1].values[0])\n",
    "print(']')"
   ]
  },
  {
   "cell_type": "code",
   "execution_count": null,
   "metadata": {
    "collapsed": true
   },
   "outputs": [],
   "source": [
    "# copy here the output of the above command and complete it with the proper numbers"
   ]
  },
  {
   "cell_type": "code",
   "execution_count": null,
   "metadata": {
    "collapsed": true
   },
   "outputs": [],
   "source": [
    "# simple error check:\n",
    "np_pfe = np.asarray(points_for_execercise)\n",
    "for i, x in enumerate(points):\n",
    "    if (x > np_pfe).any():\n",
    "        print('Error more than available points for exercise')\n",
    "        print(i, x)"
   ]
  },
  {
   "cell_type": "code",
   "execution_count": null,
   "metadata": {
    "collapsed": true
   },
   "outputs": [],
   "source": [
    "# vote calculation:\n",
    "marks = []\n",
    "for x in points:\n",
    "    np_x = np.asarray(x)\n",
    "    sing_ex = np_x / np_pfe * weights\n",
    "    ex_contrib = np.sum(sing_ex) * (mark_max - mark_min)\n",
    "    mark = ex_contrib + mark_min\n",
    "    marks.append(mark)\n",
    "# merge data matrix\n",
    "df_points = pd.DataFrame(points)\n",
    "df_marks = pd.DataFrame(marks, columns=['Mark'])\n",
    "df_marks = pd.concat([Tab_studenti, df_points, df_marks], axis=1)"
   ]
  },
  {
   "cell_type": "code",
   "execution_count": null,
   "metadata": {
    "collapsed": true
   },
   "outputs": [],
   "source": [
    "# delete absent students\n",
    "df_marks = df_marks[Tab_studenti['student'].isin(absents) == False]"
   ]
  },
  {
   "cell_type": "code",
   "execution_count": null,
   "metadata": {},
   "outputs": [],
   "source": [
    "# results:\n",
    "df_marks.round(2)"
   ]
  },
  {
   "cell_type": "code",
   "execution_count": null,
   "metadata": {},
   "outputs": [],
   "source": [
    "# sufficient (italian std):\n",
    "df_voti[df_voti['Voto']>= 5.75].round(2).sort_values('Voto', ascending=False)"
   ]
  },
  {
   "cell_type": "code",
   "execution_count": null,
   "metadata": {},
   "outputs": [],
   "source": [
    "# not sufficient (italian std)\n",
    "df_voti[(df_voti['Voto']<5.75) & (df_voti['Voto']>=5)].round(2).sort_values('Voto', ascending=False)"
   ]
  },
  {
   "cell_type": "code",
   "execution_count": null,
   "metadata": {},
   "outputs": [],
   "source": [
    "# very bed marks (italian std)\n",
    "df_voti[(df_voti['Voto']<5)].round(2).sort_values('Voto', ascending=False)"
   ]
  },
  {
   "cell_type": "code",
   "execution_count": null,
   "metadata": {
    "collapsed": true
   },
   "outputs": [],
   "source": [
    "# comments on the tests\n",
    "obs=\"\"\"\n",
    "Comments here, latex std\n",
    "\"\"\""
   ]
  },
  {
   "cell_type": "code",
   "execution_count": null,
   "metadata": {
    "collapsed": true
   },
   "outputs": [],
   "source": [
    "#dump on file\n",
    "import os\n",
    "import subprocess\n",
    "\n",
    "if not os.path.isdir('pdf'):\n",
    "    os.mkdir('pdf')"
   ]
  },
  {
   "cell_type": "code",
   "execution_count": null,
   "metadata": {
    "collapsed": true
   },
   "outputs": [],
   "source": [
    "f = open('pdf/end.tex', 'w', encoding=\"utf-8\")\n",
    "string=\\\n",
    "\"\"\"\n",
    "\\documentclass{letter}\n",
    "\\pagenumbering{gobble}\n",
    "\\\\usepackage{geometry}\n",
    "\\\\usepackage{booktabs}\n",
    "\\\\usepackage[italian]{babel}\n",
    "\\\\usepackage[utf8]{inputenc}\n",
    "\\\\usepackage{amsmath}\n",
    "\\geometry{\n",
    " a4paper,\n",
    " right=10mm,\n",
    " left=10mm,\n",
    " top=10mm,\n",
    " bottom=10mm,\n",
    " }\n",
    "\\\\begin{document}\n",
    "\"\"\"\n",
    "f.write(string)\n",
    "f.write(df_voti.round(2).sort_values('Voto', ascending=False).to_latex())\n",
    "f.write('\\\\\\\\\\n')\n",
    "f.write('\\n\\\\bigskip\\n')\n",
    "f.write('\\n')\n",
    "f.write(pd.DataFrame([points_for_execercise, weights], index=['Punti per esercizio','Peso esercizio']).round(3).to_latex())\n",
    "f.write('\\\\\\\\\\n')\n",
    "f.write('\\n\\\\bigskip\\n')\n",
    "f.write('\\n')\n",
    "f.write('Assenti:\\\\\\\\\\n')\n",
    "f.write(', '.join(absents))\n",
    "f.write('\\\\\\\\\\n')\n",
    "f.write('\\n\\\\bigskip\\n')\n",
    "f.write('\\n')\n",
    "f.write('$v_{{min}}$ = {}\\\\\\\\\\n'.format(voto_min))\n",
    "f.write('$v_{{max}}$ = {}\\\\\\\\\\n'.format(voto_max))\n",
    "equation=\\\n",
    "\"\"\"\n",
    "\\\\begin{equation*}\n",
    "\tv = v_{min} + \\\\sum_{i \\\\in ex} p_i \\\\frac{\\\\text{score}_{ex}}{\\\\text{score}_{tot}} (v_{max}- v_{min})\n",
    "\\\\end{equation*}\n",
    "\"\"\"\n",
    "f.write(equation)\n",
    "f.write('')\n",
    "f.write('\\\\\\\\\\n')\n",
    "f.write(obs)\n",
    "f.write('\\\\\\\\\\n')\n",
    "f.write('\\n\\end{document}')\n",
    "f.flush()"
   ]
  },
  {
   "cell_type": "code",
   "execution_count": null,
   "metadata": {},
   "outputs": [],
   "source": [
    "# if latex is available, compilation of the output.\n",
    "subprocess.check_call(['pdflatex',\n",
    "                           '-output-directory pdf',\n",
    "                           './pdf/end.tex'])"
   ]
  }
 ],
 "metadata": {
  "kernelspec": {
   "display_name": "Python 3",
   "language": "python",
   "name": "python3"
  },
  "language_info": {
   "codemirror_mode": {
    "name": "ipython",
    "version": 3
   },
   "file_extension": ".py",
   "mimetype": "text/x-python",
   "name": "python",
   "nbconvert_exporter": "python",
   "pygments_lexer": "ipython3",
   "version": "3.6.4"
  }
 },
 "nbformat": 4,
 "nbformat_minor": 2
}
